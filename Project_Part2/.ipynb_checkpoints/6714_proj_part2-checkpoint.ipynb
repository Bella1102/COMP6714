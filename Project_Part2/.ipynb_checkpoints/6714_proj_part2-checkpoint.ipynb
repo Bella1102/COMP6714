{
 "cells": [
  {
   "cell_type": "markdown",
   "metadata": {},
   "source": [
    "## Deadline + Late Penalty\n",
    "\n",
    "$\\textbf{Note:}$ It will take you quite some time to complete this project, therefore, we earnestly recommend that you start working as early as possible. You should read the specs carefully at least 2-3 times before you start coding.\n",
    "\n",
    "* $\\textbf{Submission deadline for the Project (Part-2) is 20:59:59 (08:59:59 PM) on 18th Nov, 2019}$\n",
    "* $\\textbf{LATE PENALTY: 10% on day-1 and 20% on each subsequent day.}$"
   ]
  },
  {
   "cell_type": "markdown",
   "metadata": {},
   "source": [
    "## Instructions\n",
    "1. This note book contains instructions for $\\textbf{COMP6714-Project (Part-2)}$. We have already released the instructions for the $\\textbf{Part-1 of the Project}$ in a seperate notebook. \n",
    "\n",
    "* You are required to complete your implementation for part-2 in the file `project_part2.py` provided along with this notebook. Please $\\textbf{DO NOT ALTER}$ the name of the file.\n",
    "\n",
    "* You are not allowed to print out unnecessary stuff. We will not consider any output printed out on the screen. All results should be returned in appropriate data structures via corresponding functions.\n",
    "\n",
    "* You can submit your implementation for **Project (Part-2)** via submission system: http://kg.cse.unsw.edu.au/submit/ . We have already sent out the invitations for you to join the submission system. In case of problems please post your request @ Piazza.\n",
    "\n",
    "* For each question, we have provided you with detailed instructions along with question headings. In case of problems, you can post your query @ Piazza.\n",
    "\n",
    "* You are allowed to add other functions and/or import modules (you may have to for this project), but you are not allowed to define global variables. **Only functions are allowed** in `project_part2.py`\n",
    "\n",
    "* You should not import unnecessary and non-standard modules/libraries. Loading such libraries at test time will lead to errors and hence ZERO score for your project. If you are not sure, please ask @ Piazza. \n",
    "\n",
    "* We will provide immediate feedback on your submission. You can access your scores using the online submission portal on the same day. \n",
    "\n",
    "* For the **Final Evaluation**, we will be using different data sets, so your final scores may vary.  \n",
    "\n",
    "* You are allowed to have a limited number of Feedback Attempts $\\textbf{(15 Attempts for each student)}$, we will use your **LAST** submission for Final Evaluation.\n",
    "\n",
    "### Allowed Libraries:\n",
    "\n",
    "You are required to write your implementation for the project (part-2) using `Python 3.6.5`. You are only allowed to use the following python libraries:\n",
    "* $\\textbf{spacy (v2.1.8)}$\n",
    "* $\\textbf{XGBoost (v0.90)}$"
   ]
  },
  {
   "cell_type": "markdown",
   "metadata": {},
   "source": [
    "# Q2: Named Entity Disambiguation/Named Entity Linking (20 Points)"
   ]
  },
  {
   "cell_type": "markdown",
   "metadata": {},
   "source": [
    "For $Q2$, you are required to use your experience gained in $Q1$ (from project-part1) to solve a renowned problem in language processing, i.e., Named Entity Disambiguation (NED) aka Named Entity Linking (NEL). It aims at assigning unique identities (i.e., entities, such as Persons, Locations and Organizations etc.) to the mention (i.e., a substring/span of the sentence that refer to an **entity**) identified in the text.\n",
    "\n",
    "For example, consider the sentence: `Olympia is the captial of Washington`. The **mention** `Washington` refers to the **entity** `Washington (state)` (https://en.wikipedia.org/wiki/Washington_(state)), rather than other possible entities with similar names, such as: (i) `The Washington Post (an American daily newspaper)` (https://en.wikipedia.org/wiki/The_Washington_Post), (ii) `The George Washington (former U.S. president)` (https://en.wikipedia.org/wiki/George_Washington), etc.\n",
    "\n",
    "\n",
    "\n",
    "For this project, we provide you with the text documents with the mentions pre-idetified alongwith a list of possible candidate entities corresponding to each mention. Your task is to come up with a learning to rank model in order to disambiguate the mention, i.e., map the mention to the correct entity.\n",
    "\n",
    "\n",
    "### Inputs:\n",
    "Input to your model are as follows. The file formats are explained in the next sub-section.\n",
    "\n",
    "1. $men\\_docs.pickle$ <br>\n",
    "   A python dictionary of the documents with mentions pre-identified.\n",
    "2. $parsed\\_candidate\\_entities.pickle$ <br>\n",
    "   A dictionary containing textual description for each candidate entity (pages from Wikipedia). **Note** that we have already pre-processed and parsed the candidate entity pages for you.\n",
    "3. $train.pickle$ <br>\n",
    "   Training data.\n",
    "4. $train\\_labels.pickle$ <br> \n",
    "   Labels corresponding to the training data.\n",
    "5. $dev.pickle$ <br>\n",
    "   Development data. **Note:** we will use this $dev$ data to provide Feedback for $Q2$. For final evaluation, we will be using completely different $test$ data sets.\n",
    "6. $dev\\_labels.pickle$ <br>\n",
    "   Labels corresponding to the `dev` data."
   ]
  },
  {
   "cell_type": "markdown",
   "metadata": {},
   "source": [
    "## File Formats \n",
    "\n",
    "### 1. $men\\_docs.pickle$\n",
    "It is a python dictionary containing the documents pertaining to the mention with $key:$ document title, $value:$ document text. Each document conatins free text.\n",
    "\n",
    "### 2. $parsed\\_candidate\\_entities.pickle$\n",
    "\n",
    "It is a python dictionary storing the Wikipedia description pages for each candidate entity with: \n",
    "* $key:$ entity name, \n",
    "* $value:$ text corresponding to entity's description. We use entity's wikipedia page to capture the entity's description. Parsing large text files may take a considerable time, so we provide you with the $spacy's$ parsing results. We consider each document as a large paragraph and store the parsing results as a list of tuples, with each tuple of the form:\n",
    "\n",
    "> $(id, token, lemma, pos\\text{-}tag, entity\\text{-}tag)$, where <br>\n",
    " * $id$: corresponds to a unique token id in the paragpah <br>\n",
    " * $token$: corresponds to the original text token <br>\n",
    " * $lemma$: corresponds to the token's lemma <br>\n",
    " * $pos\\text{-}tag$: is the token's part-of-the-speech tag <br>\n",
    " * $entity\\text{-}tag$: is the entity tag detected by the spacy.<br>\n",
    " \n",
    "For detailed descrition of the spacy's paring results, please check the following link: https://spacy.io/usage/linguistic-features\n",
    "\n",
    "A small subset of the parsed text for the entity `Cartoon_Network_Nordic` from the file $parsed\\_candidate\\_entities.pickle$ is as under:"
   ]
  },
  {
   "cell_type": "raw",
   "metadata": {},
   "source": [
    "[(1, 'Cartoon', 'Cartoon', 'PROPN', 'B-ORG'),\n",
    " (2, 'Network', 'Network', 'PROPN', 'I-ORG'),\n",
    " (3, 'television', 'television', 'NOUN', 'O'),\n",
    " (4, 'channel', 'channel', 'NOUN', 'O'),\n",
    " (5, 'broadcasting', 'broadcast', 'VERB', 'O'),\n",
    " (6, 'youth', 'youth', 'NOUN', 'O'),\n",
    " (7, 'children', 'child', 'NOUN', 'O'),\n",
    " (8, 'programmes', 'programme', 'NOUN', 'O'),\n",
    " (9, 'Sweden', 'Sweden', 'PROPN', 'B-GPE'),\n",
    " (10, 'Norway', 'Norway', 'PROPN', 'B-GPE')]"
   ]
  },
  {
   "cell_type": "markdown",
   "metadata": {},
   "source": [
    "### 3. $train.pickle$\n",
    "A python dictionary containing the training data. It consists of following fields: <br>\n",
    "* $key:$ A unique integer containing the mention_id, \n",
    "* $value:$ A dictionary containing the mention's description as following $key\\text{-}value$ pairs:\n",
    "> * $doc\\_title:$ Title of the document containing the mention. It will be one of the keys of the dictionary: $men\\_docs.pickle$ <br>\n",
    "  * $mention:$ Token span within the document $doc\\_title$ indicating the mention.<br>\n",
    "  * $offset:$ Mention's offset position in the document $doc\\_title$<br>\n",
    "  * $length:$ Length of the mention's tokens<br>\n",
    "  * $candidate\\_entities:$ A list of candidate entities corresponding to the mention. Each entity candidate corresponds to a key in the file: $parsed\\_candidate\\_entities.pickle$ <br>\n",
    "\n",
    "An example mention from the file $train.pikcle$ is shown below:"
   ]
  },
  {
   "cell_type": "raw",
   "metadata": {},
   "source": [
    "{1: {'doc_title': '1_GOLF',                                   ## Mention's document title\n",
    "  'mention': 'PGA Tour',                                      ## Mention's tokens\n",
    "  'offset': 2046,                                             ## Mention's offset position in the document\n",
    "  'length': 8,                                                ## Length of mention tokens\n",
    "  'candidate_entities': ['Professional_Golfers_Association',  ## Candidate Entities for the mention\n",
    "   'PGA_Tour',\n",
    "   'Golf_Channel_on_NBC',\n",
    "   '2009_PGA_Tour',\n",
    "   '2011_PGA_Tour',\n",
    "   '2008_PGA_Tour',\n",
    "   'PGA_Tour_on_CBS']}}"
   ]
  },
  {
   "cell_type": "markdown",
   "metadata": {},
   "source": [
    "### 4. $train\\_labels.pickle$\n",
    "A python dictionary containing the labels corresponding to the training mentions. It consists of following fields: <br>\n",
    "* $key:$ A unique integer containing the mention_id, $value:$ A dictionary containing the following key-value pairs:\n",
    "> 1. $doc\\_title:$ Title of the document containing the mention. It will be one of the keys of the dictionary: $men\\_docs.pickle$ <br>\n",
    "  * $mention:$ Tokens span within the document $doc\\_title$ indicating the mention.<br>\n",
    "  * $label:$ Mention's Ground Truth Entity Label. It also corresponds to a key in the file: $parsed\\_candidate\\_entities.pickle$ <br>\n",
    "  \n",
    "**Note:**, for each mention, we use the same `mention_id` for both the files: (i) $train.pickle$, and (ii) $train\\_labels.pickle$.<br>\n",
    "\n",
    "An example from the file $train\\_labels.pikcle$ is shown as follows:"
   ]
  },
  {
   "cell_type": "raw",
   "metadata": {},
   "source": [
    "{1: {'doc_title': '1_GOLF',   ### Mention's document title\n",
    "  'mention': 'PGA Tour',      ### Mention's tokens\n",
    "  'label': 'PGA_Tour'}}       ### Mention's True Entity Label"
   ]
  },
  {
   "cell_type": "markdown",
   "metadata": {},
   "source": [
    "### 5. $dev.pickle$\n",
    "It follows the same format as that of the file: $train.pickle$\n",
    "### 6. $dev\\_labels.pickle$\n",
    "It follows the same format as the of the file: $train\\_labels.pickle$\n",
    "\n",
    "$\\textbf{Note:}$ The `dev` data set is meant to provide the **Project Feedback** and facilitate your implementation. For final evaluation, we will be using a totally different `test` data set."
   ]
  },
  {
   "cell_type": "markdown",
   "metadata": {},
   "source": [
    "$\\textbf{TASK:}$ \n",
    "\n",
    "Given a document $men\\_doc = [w_1, w_2,...,w_Q]$; mention span within the document = $\\{m_i\\}$; and a collection of candidate entities for each mention alongwith corresponding entity description pages: $\\{e_i\\}_{i=1}^{n}$. You are required to use the:<br> \n",
    "\n",
    "1. Mention\n",
    "* Mention's document (i.e., men_doc)\n",
    "* Entity description page for each candidate entity.\n",
    "\n",
    "to come up with a learning-to-rank model to rank the candidate entities corresponding to each mention in such a way that the Ground Truth Entity is ranked higher than the false candidates. **You are only allowed to:**\n",
    "\n",
    "* Use the $XGBoost$ classifier to build your learning-to-rank model.\n",
    "\n",
    "\n",
    "$\\textbf{HINTS:}$\n",
    "1. As a baseline model, you can use your experience gained in the Project (Part-1) to compute the TF-IDF statistics for words appearing in the mention and/or entity description pages. You can consider different ways to generate useful features for your learning-to-rank model. Your model should be able to achieve more than `70-%` accuracy for the `dev` set using basic TF-IDF features.\n",
    "\n",
    "* Later, you may think of advanced feaures to further enhance the performance of your model.\n",
    "* In order to train your XGBoost ranking classifier, you can start with the following parameters, and keep on improving them later:\n",
    "> * objective: `rank:pairwise`\n",
    "  * max_depth: `7-9`\n",
    "  * n_estimators: `4500-5500` <br>\n",
    "  * eta: `0.01-0.09`\n",
    "  * lambda: `~100`\n",
    "  * min_child_weight: `0.01-0.02`\n",
    "\n",
    "For XGBoost parameter description, see the following URL: https://xgboost.readthedocs.io/en/latest/parameter.html"
   ]
  },
  {
   "cell_type": "markdown",
   "metadata": {},
   "source": [
    "### NOTE\n",
    "1. $\\textbf{YOU SHOULD NOT HARD CODE}$ the Ground Truth in your implementation. Violations in this regard will get $\\textbf{ZERO SCORE}$ for the $\\textbf{Project (Part-1 + Part-2)}$.<br>\n",
    "\n",
    "* For final evaluation of $Q2$, we will be using different set of `test` data sets (with different numbers of testing mentions), which will follow the same format as that of the `dev` data.<br>\n",
    "\n",
    "* You model should not overfit the provided `dev` data set. Overfitting may lead to a worse performance for the `test` data sets and you may get a LOW SCORE.\n",
    "\n",
    "* For ranking entity candidates for each mention, you are $\\textbf{NOT ALLOWED}$ to use Additional Information and/or External Resources other than the provided in the files corresponding to $Q2$.<br>\n",
    "\n",
    "* You are $\\textbf{NOT ALLOWED}$ to use deep learning and/or pre-trained embedding models.\n",
    "\n",
    "* In order to come up with a learning-to-rank model, you are only allowed to use $XGBoost$ classifier (v0.90). You may check-out the documentation of the $XGBoost$ classifier via following url: https://xgboost.readthedocs.io/en/latest/python/python_api.html"
   ]
  },
  {
   "cell_type": "markdown",
   "metadata": {},
   "source": [
    "### Output Format (Q2):\n",
    "\n",
    "Your output should be a `dict()` of the form:<br>\n",
    "\n",
    "`{mid:'Entity_Label'}`, where <br>\n",
    "* `mid` corresponds to the mention id in the `dev` and/or `test` data set.\n",
    "* `Entity_Label` corresponds to the mention's most relevant entity label amongst the candidate labels.\n",
    "\n",
    "### Running Time:\n",
    "* On CSE machine, your implementation should return the result within 10 minutes (600-sec) **(USER + SYSTEM)**."
   ]
  },
  {
   "cell_type": "markdown",
   "metadata": {},
   "source": [
    "## How we test your implementation"
   ]
  },
  {
   "cell_type": "code",
   "execution_count": 1,
   "metadata": {},
   "outputs": [],
   "source": [
    "## Import Necessary Modules...\n",
    "import pickle\n",
    "import project_part2 as project_part2\n",
    "# import project_part2_vvv as project_part2\n",
    "import numpy as np"
   ]
  },
  {
   "cell_type": "code",
   "execution_count": 2,
   "metadata": {},
   "outputs": [],
   "source": [
    "## Read the data sets...\n",
    "\n",
    "### Read the Training Data\n",
    "train_file = './Dev_set_2/train.pickle'\n",
    "train_mentions = pickle.load(open(train_file, 'rb'))\n",
    "\n",
    "### Read the Training Labels...\n",
    "train_label_file = './Dev_set_2/train_labels.pickle'\n",
    "train_labels = pickle.load(open(train_label_file, 'rb'))\n",
    "\n",
    "### Read the Dev Data... (For Final Evaluation, we will replace it with the Test Data)\n",
    "dev_file = './Dev_set_2/dev2.pickle'\n",
    "dev_mentions = pickle.load(open(dev_file, 'rb'))\n",
    "\n",
    "### Read the Parsed Entity Candidate Pages...\n",
    "fname = './Dev_set_2/parsed_candidate_entities.pickle'\n",
    "parsed_entity_pages = pickle.load(open(fname, 'rb'))\n",
    "\n",
    "### Read the Mention docs...\n",
    "mens_docs_file = \"./Dev_set_2/men_docs.pickle\"\n",
    "men_docs = pickle.load(open(mens_docs_file, 'rb'))"
   ]
  },
  {
   "cell_type": "code",
   "execution_count": 3,
   "metadata": {},
   "outputs": [
    {
     "name": "stdout",
     "output_type": "stream",
     "text": [
      "[0]\ttrain-map:0.908668\n",
      "Will train until train-map hasn't improved in 10 rounds.\n",
      "[1]\ttrain-map:0.908668\n",
      "[2]\ttrain-map:0.908668\n",
      "[3]\ttrain-map:0.908668\n",
      "[4]\ttrain-map:0.914957\n",
      "[5]\ttrain-map:0.914957\n",
      "[6]\ttrain-map:0.914957\n",
      "[7]\ttrain-map:0.915132\n",
      "[8]\ttrain-map:0.916879\n",
      "[9]\ttrain-map:0.917403\n",
      "[10]\ttrain-map:0.916529\n",
      "[11]\ttrain-map:0.929108\n",
      "[12]\ttrain-map:0.930506\n",
      "[13]\ttrain-map:0.932078\n",
      "[14]\ttrain-map:0.933301\n",
      "[15]\ttrain-map:0.934524\n",
      "[16]\ttrain-map:0.93365\n",
      "[17]\ttrain-map:0.94173\n",
      "[18]\ttrain-map:0.943827\n",
      "[19]\ttrain-map:0.944001\n",
      "[20]\ttrain-map:0.944526\n",
      "[21]\ttrain-map:0.949068\n",
      "[22]\ttrain-map:0.949068\n",
      "[23]\ttrain-map:0.950116\n",
      "[24]\ttrain-map:0.951688\n",
      "[25]\ttrain-map:0.95064\n",
      "[26]\ttrain-map:0.951688\n",
      "[27]\ttrain-map:0.951514\n",
      "[28]\ttrain-map:0.951339\n",
      "[29]\ttrain-map:0.951776\n",
      "[30]\ttrain-map:0.953523\n",
      "[31]\ttrain-map:0.952999\n",
      "[32]\ttrain-map:0.952999\n",
      "[33]\ttrain-map:0.953523\n",
      "[34]\ttrain-map:0.953523\n",
      "[35]\ttrain-map:0.954047\n",
      "[36]\ttrain-map:0.954047\n",
      "[37]\ttrain-map:0.954047\n",
      "[38]\ttrain-map:0.954833\n",
      "[39]\ttrain-map:0.955881\n",
      "[40]\ttrain-map:0.957104\n",
      "[41]\ttrain-map:0.958152\n",
      "[42]\ttrain-map:0.958152\n",
      "[43]\ttrain-map:0.956231\n",
      "[44]\ttrain-map:0.957279\n",
      "[45]\ttrain-map:0.957279\n",
      "[46]\ttrain-map:0.956755\n",
      "[47]\ttrain-map:0.957279\n",
      "[48]\ttrain-map:0.957279\n",
      "[49]\ttrain-map:0.959375\n",
      "[50]\ttrain-map:0.959899\n",
      "[51]\ttrain-map:0.959899\n",
      "[52]\ttrain-map:0.958851\n",
      "[53]\ttrain-map:0.960424\n",
      "[54]\ttrain-map:0.959375\n",
      "[55]\ttrain-map:0.958851\n",
      "[56]\ttrain-map:0.959899\n",
      "[57]\ttrain-map:0.96121\n",
      "[58]\ttrain-map:0.96086\n",
      "[59]\ttrain-map:0.960686\n",
      "[60]\ttrain-map:0.959637\n",
      "[61]\ttrain-map:0.960686\n",
      "[62]\ttrain-map:0.96086\n",
      "[63]\ttrain-map:0.96086\n",
      "[64]\ttrain-map:0.961909\n",
      "[65]\ttrain-map:0.961909\n",
      "[66]\ttrain-map:0.961909\n",
      "[67]\ttrain-map:0.962433\n",
      "[68]\ttrain-map:0.962433\n",
      "[69]\ttrain-map:0.962258\n",
      "[70]\ttrain-map:0.962258\n",
      "[71]\ttrain-map:0.962258\n",
      "[72]\ttrain-map:0.962258\n",
      "[73]\ttrain-map:0.962258\n",
      "[74]\ttrain-map:0.962258\n",
      "[75]\ttrain-map:0.962782\n",
      "[76]\ttrain-map:0.962782\n",
      "[77]\ttrain-map:0.962258\n",
      "[78]\ttrain-map:0.962782\n",
      "[79]\ttrain-map:0.962782\n",
      "[80]\ttrain-map:0.962258\n",
      "[81]\ttrain-map:0.962782\n",
      "[82]\ttrain-map:0.96121\n",
      "[83]\ttrain-map:0.962258\n",
      "[84]\ttrain-map:0.965927\n",
      "[85]\ttrain-map:0.966058\n",
      "[86]\ttrain-map:0.966145\n",
      "[87]\ttrain-map:0.966145\n",
      "[88]\ttrain-map:0.966145\n",
      "[89]\ttrain-map:0.966145\n",
      "[90]\ttrain-map:0.966145\n",
      "[91]\ttrain-map:0.966145\n",
      "[92]\ttrain-map:0.966145\n",
      "[93]\ttrain-map:0.966145\n",
      "[94]\ttrain-map:0.966669\n",
      "[95]\ttrain-map:0.966669\n",
      "[96]\ttrain-map:0.966669\n",
      "[97]\ttrain-map:0.966669\n",
      "[98]\ttrain-map:0.966669\n",
      "[99]\ttrain-map:0.966669\n",
      "[100]\ttrain-map:0.967193\n",
      "[101]\ttrain-map:0.967193\n",
      "[102]\ttrain-map:0.967193\n",
      "[103]\ttrain-map:0.967193\n",
      "[104]\ttrain-map:0.967193\n",
      "[105]\ttrain-map:0.967193\n",
      "[106]\ttrain-map:0.967193\n",
      "[107]\ttrain-map:0.967193\n",
      "[108]\ttrain-map:0.967193\n",
      "[109]\ttrain-map:0.967717\n",
      "[110]\ttrain-map:0.967717\n",
      "[111]\ttrain-map:0.967717\n",
      "[112]\ttrain-map:0.967717\n",
      "[113]\ttrain-map:0.968242\n",
      "[114]\ttrain-map:0.968329\n",
      "[115]\ttrain-map:0.968853\n",
      "[116]\ttrain-map:0.968853\n",
      "[117]\ttrain-map:0.969377\n",
      "[118]\ttrain-map:0.969377\n",
      "[119]\ttrain-map:0.969377\n",
      "[120]\ttrain-map:0.969377\n",
      "[121]\ttrain-map:0.969552\n",
      "[122]\ttrain-map:0.969377\n",
      "[123]\ttrain-map:0.969552\n",
      "[124]\ttrain-map:0.969552\n",
      "[125]\ttrain-map:0.970076\n",
      "[126]\ttrain-map:0.970076\n",
      "[127]\ttrain-map:0.970076\n",
      "[128]\ttrain-map:0.970076\n",
      "[129]\ttrain-map:0.970076\n",
      "[130]\ttrain-map:0.970076\n",
      "[131]\ttrain-map:0.970076\n",
      "[132]\ttrain-map:0.970076\n",
      "[133]\ttrain-map:0.970076\n",
      "[134]\ttrain-map:0.9706\n",
      "[135]\ttrain-map:0.9706\n",
      "[136]\ttrain-map:0.9706\n",
      "[137]\ttrain-map:0.971648\n",
      "[138]\ttrain-map:0.971648\n",
      "[139]\ttrain-map:0.971648\n",
      "[140]\ttrain-map:0.971648\n",
      "[141]\ttrain-map:0.971648\n",
      "[142]\ttrain-map:0.971648\n",
      "[143]\ttrain-map:0.971648\n",
      "[144]\ttrain-map:0.972172\n",
      "[145]\ttrain-map:0.972172\n",
      "[146]\ttrain-map:0.972172\n",
      "[147]\ttrain-map:0.972172\n",
      "[148]\ttrain-map:0.972172\n",
      "[149]\ttrain-map:0.972172\n",
      "[150]\ttrain-map:0.972172\n",
      "[151]\ttrain-map:0.972172\n",
      "[152]\ttrain-map:0.972172\n",
      "[153]\ttrain-map:0.972172\n",
      "[154]\ttrain-map:0.972172\n",
      "Stopping. Best iteration:\n",
      "[144]\ttrain-map:0.972172\n",
      "\n"
     ]
    }
   ],
   "source": [
    "## Result of the model...\n",
    "result = project_part2.disambiguate_mentions(train_mentions, train_labels, dev_mentions, men_docs, parsed_entity_pages)"
   ]
  },
  {
   "cell_type": "code",
   "execution_count": 4,
   "metadata": {},
   "outputs": [
    {
     "name": "stdout",
     "output_type": "stream",
     "text": [
      "KEY: 1 \t VAL: United_Kingdom\n",
      "KEY: 2 \t VAL: Republicanism\n",
      "KEY: 3 \t VAL: John_Trenchard\n",
      "KEY: 4 \t VAL: Thomas_Gordon\n",
      "KEY: 5 \t VAL: John_Hales\n"
     ]
    }
   ],
   "source": [
    "## Here, we print out sample result of the model for illustration...\n",
    "for key in list(result)[:5]:\n",
    "    print('KEY: {} \\t VAL: {}'.format(key,result[key]))"
   ]
  },
  {
   "cell_type": "code",
   "execution_count": 5,
   "metadata": {},
   "outputs": [],
   "source": [
    "## We will be using the following function to compute the accuracy...\n",
    "def compute_accuracy(result, data_labels):\n",
    "    assert set(list(result.keys())) - set(list(data_labels.keys())) == set()\n",
    "    TP = 0.0\n",
    "    for id_ in result.keys():\n",
    "        if result[id_] == data_labels[id_]['label']:\n",
    "            TP +=1\n",
    "    assert len(result) == len(data_labels)\n",
    "    return TP/len(result)"
   ]
  },
  {
   "cell_type": "code",
   "execution_count": 6,
   "metadata": {},
   "outputs": [
    {
     "name": "stdout",
     "output_type": "stream",
     "text": [
      "Accuracy =  0.6335403726708074\n"
     ]
    }
   ],
   "source": [
    "### Read the Dev Labels... (For Final Evaluation, we will replace it with the Test Data)\n",
    "dev_label_file = './Dev_set_2/dev2_labels.pickle'\n",
    "dev_labels = pickle.load(open(dev_label_file, 'rb'))\n",
    "\n",
    "accuracy = compute_accuracy(result, dev_labels)\n",
    "print(\"Accuracy = \", accuracy)"
   ]
  },
  {
   "cell_type": "markdown",
   "metadata": {},
   "source": [
    "### Evaluation Metric + Scoring Function\n",
    "\n",
    "* We will compute the accuracy of your model on the `test` and/or `dev` data sets, as shown in the function: `compute_accuracy(result, data_labels)` given above. Later, we will be using the following piece-wise linear scoring function to compute your scores (0-20) for $Q2$.\n",
    "\n",
    "$$\n",
    "{\n",
    "Score(x) =\\left\\{\n",
    "            \\begin{array}{lr}\n",
    "              0\\quad x<0.70\\\\\n",
    "              10\\cdot(20x-14) \\quad 0.70 < x \\leq 0.75 \\\\\n",
    "              10\\cdot(5x-2.75) \\quad 0.75 < x < 0.85 \\\\\n",
    "              10\\cdot(12.5x-9.125) \\quad 0.85 \\leq x < 0.89 \\\\\n",
    "              20\\quad x \\geq 0.89\n",
    "            \\end{array}\n",
    "          \\right.\n",
    "}\n",
    "$$\n"
   ]
  },
  {
   "cell_type": "markdown",
   "metadata": {},
   "source": [
    "## Project Submission and Feedback\n",
    "\n",
    "For project submission, you are required to submit the following files:\n",
    "\n",
    "1. Your implementation in a python file `project_part2.py`.\n",
    "\n",
    "2. A report `project_part2.pdf` You need to write a concise and simple report illustrating\n",
    "    - Implementation details of $Q2$.\n",
    "    - Especially, your approach for extending your implementation in ($Q1$) for ($Q2$).\n",
    "\n",
    "**Note:** Every student will be entitled to **15 Feedback Attempts** (use them wisely), we will use the last submission for final evaluation of the **Project (part-2)**."
   ]
  },
  {
   "cell_type": "markdown",
   "metadata": {
    "inputHidden": false,
    "outputHidden": false
   },
   "source": [
    "## Bonus Points (10 points)\n",
    "\n",
    "We will award $\\textbf{BONUS POINTS to the TOP-10}$ best performing students in the decreasing order of the performance on the **Project (Part-2)**, i.e., the best performing student will get 10 points, second-best will get 9 points and so on.\n",
    "\n",
    "**NOTE**:\n",
    "\n",
    "* We will not consider Project (Part-1) to award BONUS scores. \n",
    "* We will not recieve any seperate submission for the BONUS points.\n",
    "* Your project implementation for the **Part-2** will be automatically considered for the Bonus scores."
   ]
  },
  {
   "cell_type": "code",
   "execution_count": null,
   "metadata": {},
   "outputs": [],
   "source": []
  }
 ],
 "metadata": {
  "kernel_info": {
   "name": "python3"
  },
  "kernelspec": {
   "display_name": "Python 3",
   "language": "python",
   "name": "python3"
  },
  "language_info": {
   "codemirror_mode": {
    "name": "ipython",
    "version": 3
   },
   "file_extension": ".py",
   "mimetype": "text/x-python",
   "name": "python",
   "nbconvert_exporter": "python",
   "pygments_lexer": "ipython3",
   "version": "3.7.4"
  },
  "nteract": {
   "version": "0.15.0"
  }
 },
 "nbformat": 4,
 "nbformat_minor": 2
}
