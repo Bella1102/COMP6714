{
 "cells": [
  {
   "cell_type": "markdown",
   "metadata": {},
   "source": [
    "## XGBoost Demo for Ranking\n",
    "\n",
    "This notebook demonstrates using XGBoost as a Ranking classifier. You are allowed to use and/or modify this code for the Project (Part-2)."
   ]
  },
  {
   "cell_type": "code",
   "execution_count": 1,
   "metadata": {},
   "outputs": [],
   "source": [
    "import numpy as np\n",
    "import xgboost as xgb"
   ]
  },
  {
   "cell_type": "code",
   "execution_count": 2,
   "metadata": {},
   "outputs": [
    {
     "data": {
      "text/plain": [
       "'0.90'"
      ]
     },
     "execution_count": 2,
     "metadata": {},
     "output_type": "execute_result"
    }
   ],
   "source": [
    "xgb.__version__"
   ]
  },
  {
   "cell_type": "markdown",
   "metadata": {},
   "source": [
    "### Generate Random Features and labels for Training Data\n",
    "\n",
    "At first, we generate some random features to train the XGBoost Classifier. For the project, you will be required to use the data provided (explained in `6714_proj_part2.ipynb`) to generate your features.\n",
    "\n",
    "For this example, we assume:<br>\n",
    "\n",
    "* We have 5 mentions in the training data, with total number of candidate entities for each mention as follows: [5, 4, 4, 3, 4].\n",
    "\n",
    "* We form pairs of the form: $(mention,candidate\\_entity)$, so we will have 20 pairs (for 5 mentions) in total $\\sim \\; \\sum_{i=1}^{N}{\\#c_{m_i}}$, where $\\#c_{m_i}$ corresponds to the number of candidates of the mention $m_{i}$. We consider the candidate entities corresponding to each mention as a seperate group.\n",
    "\n",
    "* For each <mention, entity> pair, we may generate some features using men_docs ($men\\_docs.pickle$) and entity description pages ($parsed\\_candidate\\_entities.pickle$). For illustration, we randomly generate some features (d-dimensional). For 20 <mention, entity> pairs, we will have a fearure matrix of the shape $(20 \\times d)$."
   ]
  },
  {
   "cell_type": "code",
   "execution_count": 3,
   "metadata": {},
   "outputs": [
    {
     "data": {
      "text/plain": [
       "(20, 13)"
      ]
     },
     "execution_count": 3,
     "metadata": {},
     "output_type": "execute_result"
    }
   ],
   "source": [
    "## Randomly Generate Features for Training....\n",
    "\n",
    "### Set Numpy Seed\n",
    "np.random.seed(23)\n",
    "\n",
    "### We generate random features (13-dim). The feature matrix will be of the shape: (20,13)\n",
    "train_data = np.random.rand(20, 13)\n",
    "train_data.shape"
   ]
  },
  {
   "cell_type": "markdown",
   "metadata": {},
   "source": [
    "### Labels for the Training data\n",
    "\n",
    "* Next, we assign labels to each <mention,entity> pair in the training data, such that:\n",
    "> * The Ground Truth entity Label is assigned a label (1) and is positioned at the start of the group (although, strictly speaking you may place the Ground Truth label at any position within the group, we do so in order to facilitate explanation). <br>\n",
    "> * The rest of the <mention, entity> pairs are assigned a label (0).\n",
    "\n",
    "**Note:** The features generated from each <mention, entity> pair should also follow the same order as that of the labels in each group."
   ]
  },
  {
   "cell_type": "code",
   "execution_count": 4,
   "metadata": {},
   "outputs": [],
   "source": [
    "## Labels for training data...\n",
    "train_labels = np.array([1, 0, 0, 0, 0, 1, 0, 0, 0, 1, 0, 0, 0, 1, 0, 0, 1, 0, 0, 0])"
   ]
  },
  {
   "cell_type": "markdown",
   "metadata": {},
   "source": [
    "### Groups:\n",
    "\n",
    "Here, we form groups for the training data, i.e., represent total number of candidate entities corresponding to each mention in the training data. [5, 4, 4, 3, 4] means that the first mention contains 5 candidate entities, second mention contains 4 candidate entities and so on..."
   ]
  },
  {
   "cell_type": "code",
   "execution_count": 5,
   "metadata": {},
   "outputs": [
    {
     "data": {
      "text/plain": [
       "array([5, 4, 4, 3, 4])"
      ]
     },
     "execution_count": 5,
     "metadata": {},
     "output_type": "execute_result"
    }
   ],
   "source": [
    "## Form Groups...\n",
    "\n",
    "idxs = np.where(train_labels == 1)[0]\n",
    "train_groups = np.append(np.delete(idxs, 0), len(train_labels)) - idxs\n",
    "train_groups"
   ]
  },
  {
   "cell_type": "markdown",
   "metadata": {},
   "source": [
    "### Transform Data for XGBoost...\n",
    "\n",
    "For model training, $XGBoost$ expects a `DMatrix`. Here, we transform our training data to XGboost's `DMatrix` form. For illustration, you may check-out the documentation of the $XGBoost$ classifier: https://xgboost.readthedocs.io/en/latest/python/python_api.html"
   ]
  },
  {
   "cell_type": "code",
   "execution_count": 6,
   "metadata": {},
   "outputs": [],
   "source": [
    "def transform_data(features, groups, labels=None):\n",
    "    xgb_data = xgb.DMatrix(data=features, label=labels)\n",
    "    xgb_data.set_group(groups)\n",
    "    return xgb_data\n",
    "\n",
    "\n",
    "xgboost_train = transform_data(train_data, train_groups, train_labels)"
   ]
  },
  {
   "cell_type": "markdown",
   "metadata": {},
   "source": [
    "### Generate Features for the Test data\n",
    "\n",
    "We follow the same steps, as described previously, to randomly generate some features for testing."
   ]
  },
  {
   "cell_type": "code",
   "execution_count": 7,
   "metadata": {},
   "outputs": [],
   "source": [
    "## Randomly Generate Features for Testing....\n",
    "\n",
    "## Set Numpy Random seed...\n",
    "np.random.seed(53)\n",
    "\n",
    "## Generate features of same dimensionality as that of training features...\n",
    "test_data = np.random.rand(10, 13)\n",
    "\n",
    "## Assign Groups, assuming there are 3 mentions, with 3, 3 and 4 candidate entities...\n",
    "test_groups = np.array([3, 3, 4])\n",
    "\n",
    "# Transform the features to XGBoost DMatrix...\n",
    "xgboost_test = transform_data(test_data, test_groups)"
   ]
  },
  {
   "cell_type": "markdown",
   "metadata": {},
   "source": [
    "### Model Training + Prediction\n",
    "\n",
    "After feature generation, and data transformation, the next step is to set hyper-parameters of the $XGBoost$ classifier and and train our model. Once the model is trained, we use it to generate predictions for the testing data.\n",
    "\n",
    "**Note:** We use `rank:pairwise` as the objective function of our model."
   ]
  },
  {
   "cell_type": "code",
   "execution_count": 8,
   "metadata": {},
   "outputs": [
    {
     "data": {
      "text/plain": [
       "array([ 1.9517167 ,  1.3537614 , -0.528682  ,  2.2637196 ,  0.3741573 ,\n",
       "       -1.1266525 , -1.0967903 ,  2.9331822 ,  2.4613676 , -0.93424654],\n",
       "      dtype=float32)"
      ]
     },
     "execution_count": 8,
     "metadata": {},
     "output_type": "execute_result"
    }
   ],
   "source": [
    "## Parameters for XGBoost, you can fine-tune these parameters according to your settings...\n",
    "\n",
    "param = {'max_depth': 8, 'eta': 0.05, 'silent': 1, 'objective': 'rank:pairwise',\n",
    "         'min_child_weight': 0.01, 'lambda':100}\n",
    "\n",
    "## Train the classifier...\n",
    "classifier = xgb.train(param, xgboost_train, num_boost_round=4900)\n",
    "##  Predict test data...\n",
    "preds = classifier.predict(xgboost_test)\n",
    "preds"
   ]
  },
  {
   "cell_type": "markdown",
   "metadata": {},
   "source": [
    "### Prediction scores of Each Testing Group...\n",
    "\n",
    "We can separetely consider the prediction score of each group to get the final entity corresponding to each mention. Based on the prediction scores for each group, you may select the best candidate entity for the testing mention."
   ]
  },
  {
   "cell_type": "code",
   "execution_count": 9,
   "metadata": {},
   "outputs": [
    {
     "name": "stdout",
     "output_type": "stream",
     "text": [
      "Prediction scores for Group 0 = [ 1.9517167  1.3537614 -0.528682 ]\n",
      "Prediction scores for Group 1 = [ 2.2637196  0.3741573 -1.1266525]\n",
      "Prediction scores for Group 2 = [-1.0967903   2.9331822   2.4613676  -0.93424654]\n"
     ]
    }
   ],
   "source": [
    "idx = 0\n",
    "\n",
    "for iter_, group in enumerate(test_groups):\n",
    "    print(\"Prediction scores for Group {} = {}\".format(iter_,preds[idx:idx+group]))\n",
    "    idx+=group"
   ]
  },
  {
   "cell_type": "code",
   "execution_count": null,
   "metadata": {},
   "outputs": [],
   "source": []
  },
  {
   "cell_type": "code",
   "execution_count": null,
   "metadata": {},
   "outputs": [],
   "source": []
  }
 ],
 "metadata": {
  "kernelspec": {
   "display_name": "Python 3",
   "language": "python",
   "name": "python3"
  },
  "language_info": {
   "codemirror_mode": {
    "name": "ipython",
    "version": 3
   },
   "file_extension": ".py",
   "mimetype": "text/x-python",
   "name": "python",
   "nbconvert_exporter": "python",
   "pygments_lexer": "ipython3",
   "version": "3.7.4"
  },
  "nteract": {
   "version": "0.12.3"
  }
 },
 "nbformat": 4,
 "nbformat_minor": 2
}
